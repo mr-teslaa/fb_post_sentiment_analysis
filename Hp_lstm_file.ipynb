{
 "cells": [
  {
   "cell_type": "code",
   "execution_count": 1,
   "metadata": {
    "colab": {
     "base_uri": "https://localhost:8080/"
    },
    "executionInfo": {
     "elapsed": 51760,
     "status": "ok",
     "timestamp": 1717781081900,
     "user": {
      "displayName": "Ismail Hossain Adnan",
      "userId": "14161832378508013193"
     },
     "user_tz": -360
    },
    "id": "sRLiVa0G22xB",
    "outputId": "3789b810-2f8c-4323-8de9-d5a25b1250f1"
   },
   "outputs": [],
   "source": [
    "# from google.colab import drive\n",
    "# drive.mount('/content/drive')"
   ]
  },
  {
   "cell_type": "code",
   "execution_count": 2,
   "metadata": {
    "colab": {
     "base_uri": "https://localhost:8080/",
     "height": 206
    },
    "executionInfo": {
     "elapsed": 3117,
     "status": "ok",
     "timestamp": 1717781099498,
     "user": {
      "displayName": "Ismail Hossain Adnan",
      "userId": "14161832378508013193"
     },
     "user_tz": -360
    },
    "id": "NZckPLGq22tl",
    "outputId": "f33fdd7e-4258-4243-ee9c-4ed1ffbb670e"
   },
   "outputs": [
    {
     "data": {
      "text/html": [
       "<div>\n",
       "<style scoped>\n",
       "    .dataframe tbody tr th:only-of-type {\n",
       "        vertical-align: middle;\n",
       "    }\n",
       "\n",
       "    .dataframe tbody tr th {\n",
       "        vertical-align: top;\n",
       "    }\n",
       "\n",
       "    .dataframe thead th {\n",
       "        text-align: right;\n",
       "    }\n",
       "</style>\n",
       "<table border=\"1\" class=\"dataframe\">\n",
       "  <thead>\n",
       "    <tr style=\"text-align: right;\">\n",
       "      <th></th>\n",
       "      <th>Data</th>\n",
       "      <th>Sentiment</th>\n",
       "    </tr>\n",
       "  </thead>\n",
       "  <tbody>\n",
       "    <tr>\n",
       "      <th>0</th>\n",
       "      <td>ভালো ছিলো</td>\n",
       "      <td>1</td>\n",
       "    </tr>\n",
       "    <tr>\n",
       "      <th>1</th>\n",
       "      <td>শাহনাজ খুশি দ্যা বেস্ট,,,,,</td>\n",
       "      <td>1</td>\n",
       "    </tr>\n",
       "    <tr>\n",
       "      <th>2</th>\n",
       "      <td>ছেলে দুইটা দারুন অভিনয়</td>\n",
       "      <td>1</td>\n",
       "    </tr>\n",
       "    <tr>\n",
       "      <th>3</th>\n",
       "      <td>খুবই ভালো</td>\n",
       "      <td>1</td>\n",
       "    </tr>\n",
       "    <tr>\n",
       "      <th>4</th>\n",
       "      <td>আসলে অনেক সুন্দর</td>\n",
       "      <td>1</td>\n",
       "    </tr>\n",
       "  </tbody>\n",
       "</table>\n",
       "</div>"
      ],
      "text/plain": [
       "                           Data  Sentiment\n",
       "0                     ভালো ছিলো          1\n",
       "1   শাহনাজ খুশি দ্যা বেস্ট,,,,,          1\n",
       "2       ছেলে দুইটা দারুন অভিনয়          1\n",
       "3                     খুবই ভালো          1\n",
       "4              আসলে অনেক সুন্দর          1"
      ]
     },
     "execution_count": 2,
     "metadata": {},
     "output_type": "execute_result"
    }
   ],
   "source": [
    "import pandas as pd\n",
    "\n",
    "df = pd.read_csv('dataset_june6_10.06_am.csv')\n",
    "df.head()"
   ]
  },
  {
   "cell_type": "code",
   "execution_count": 3,
   "metadata": {
    "colab": {
     "base_uri": "https://localhost:8080/",
     "height": 424
    },
    "executionInfo": {
     "elapsed": 5,
     "status": "ok",
     "timestamp": 1717781101758,
     "user": {
      "displayName": "Ismail Hossain Adnan",
      "userId": "14161832378508013193"
     },
     "user_tz": -360
    },
    "id": "dBso5Jad22rP",
    "outputId": "ecec4682-117b-40af-8156-847b11e92534"
   },
   "outputs": [
    {
     "data": {
      "text/html": [
       "<div>\n",
       "<style scoped>\n",
       "    .dataframe tbody tr th:only-of-type {\n",
       "        vertical-align: middle;\n",
       "    }\n",
       "\n",
       "    .dataframe tbody tr th {\n",
       "        vertical-align: top;\n",
       "    }\n",
       "\n",
       "    .dataframe thead th {\n",
       "        text-align: right;\n",
       "    }\n",
       "</style>\n",
       "<table border=\"1\" class=\"dataframe\">\n",
       "  <thead>\n",
       "    <tr style=\"text-align: right;\">\n",
       "      <th></th>\n",
       "      <th>Data</th>\n",
       "      <th>Sentiment</th>\n",
       "    </tr>\n",
       "  </thead>\n",
       "  <tbody>\n",
       "    <tr>\n",
       "      <th>2964</th>\n",
       "      <td>গণমাধ্যমই এখন জনগনের ভরসা</td>\n",
       "      <td>0</td>\n",
       "    </tr>\n",
       "    <tr>\n",
       "      <th>969</th>\n",
       "      <td>এটা কোন নাটক হলো</td>\n",
       "      <td>2</td>\n",
       "    </tr>\n",
       "    <tr>\n",
       "      <th>1385</th>\n",
       "      <td>নষ্টামি একটু বেশি এ হয়ে গেল না?বান্নাহ?</td>\n",
       "      <td>2</td>\n",
       "    </tr>\n",
       "    <tr>\n",
       "      <th>1233</th>\n",
       "      <td>কাচ্চি চা</td>\n",
       "      <td>2</td>\n",
       "    </tr>\n",
       "    <tr>\n",
       "      <th>2995</th>\n",
       "      <td>আমাদের বোর্ড প্রেসিডেন্ট</td>\n",
       "      <td>0</td>\n",
       "    </tr>\n",
       "    <tr>\n",
       "      <th>...</th>\n",
       "      <td>...</td>\n",
       "      <td>...</td>\n",
       "    </tr>\n",
       "    <tr>\n",
       "      <th>3092</th>\n",
       "      <td>উদাহরণ প্রয়োগ যদি গালি হয় তাহলে আপনি ও বাংলা অ...</td>\n",
       "      <td>0</td>\n",
       "    </tr>\n",
       "    <tr>\n",
       "      <th>1095</th>\n",
       "      <td>বাজে নাটক</td>\n",
       "      <td>2</td>\n",
       "    </tr>\n",
       "    <tr>\n",
       "      <th>1130</th>\n",
       "      <td>￰সাইড আর্টিস্ট  গুলুর  এতো  বাজে  অভিনয়  সত্য...</td>\n",
       "      <td>2</td>\n",
       "    </tr>\n",
       "    <tr>\n",
       "      <th>1294</th>\n",
       "      <td>শেষটা ভাল লাগলো নাহ</td>\n",
       "      <td>2</td>\n",
       "    </tr>\n",
       "    <tr>\n",
       "      <th>860</th>\n",
       "      <td>বালের নাটক এমবি নষ্ট করলাম</td>\n",
       "      <td>2</td>\n",
       "    </tr>\n",
       "  </tbody>\n",
       "</table>\n",
       "<p>3149 rows × 2 columns</p>\n",
       "</div>"
      ],
      "text/plain": [
       "                                                   Data  Sentiment\n",
       "2964                          গণমাধ্যমই এখন জনগনের ভরসা          0\n",
       "969                                    এটা কোন নাটক হলো          2\n",
       "1385            নষ্টামি একটু বেশি এ হয়ে গেল না?বান্নাহ?          2\n",
       "1233                                          কাচ্চি চা          2\n",
       "2995                          আমাদের বোর্ড প্রেসিডেন্ট           0\n",
       "...                                                 ...        ...\n",
       "3092  উদাহরণ প্রয়োগ যদি গালি হয় তাহলে আপনি ও বাংলা অ...          0\n",
       "1095                                          বাজে নাটক          2\n",
       "1130   ￰সাইড আর্টিস্ট  গুলুর  এতো  বাজে  অভিনয়  সত্য...          2\n",
       "1294                                শেষটা ভাল লাগলো নাহ          2\n",
       "860                          বালের নাটক এমবি নষ্ট করলাম          2\n",
       "\n",
       "[3149 rows x 2 columns]"
      ]
     },
     "execution_count": 3,
     "metadata": {},
     "output_type": "execute_result"
    }
   ],
   "source": [
    "df = df.sample(frac=1, random_state=42)\n",
    "df"
   ]
  },
  {
   "cell_type": "code",
   "execution_count": 4,
   "metadata": {
    "colab": {
     "base_uri": "https://localhost:8080/"
    },
    "executionInfo": {
     "elapsed": 6157,
     "status": "ok",
     "timestamp": 1717781115352,
     "user": {
      "displayName": "Ismail Hossain Adnan",
      "userId": "14161832378508013193"
     },
     "user_tz": -360
    },
    "id": "zQK0prNJ3l03",
    "outputId": "812101f1-8996-4ef0-b3e5-1d0d2ae6a8f7"
   },
   "outputs": [
    {
     "name": "stdout",
     "output_type": "stream",
     "text": [
      "Requirement already satisfied: keras-tuner in c:\\users\\hp\\appdata\\local\\programs\\python\\python311\\lib\\site-packages (1.4.7)\n",
      "Requirement already satisfied: keras in c:\\users\\hp\\appdata\\local\\programs\\python\\python311\\lib\\site-packages (from keras-tuner) (2.13.1)\n",
      "Requirement already satisfied: packaging in c:\\users\\hp\\appdata\\local\\programs\\python\\python311\\lib\\site-packages (from keras-tuner) (23.1)\n",
      "Requirement already satisfied: requests in c:\\users\\hp\\appdata\\local\\programs\\python\\python311\\lib\\site-packages (from keras-tuner) (2.31.0)\n",
      "Requirement already satisfied: kt-legacy in c:\\users\\hp\\appdata\\local\\programs\\python\\python311\\lib\\site-packages (from keras-tuner) (1.0.5)\n",
      "Requirement already satisfied: charset-normalizer<4,>=2 in c:\\users\\hp\\appdata\\local\\programs\\python\\python311\\lib\\site-packages (from requests->keras-tuner) (3.2.0)\n",
      "Requirement already satisfied: idna<4,>=2.5 in c:\\users\\hp\\appdata\\local\\programs\\python\\python311\\lib\\site-packages (from requests->keras-tuner) (3.4)\n",
      "Requirement already satisfied: urllib3<3,>=1.21.1 in c:\\users\\hp\\appdata\\local\\programs\\python\\python311\\lib\\site-packages (from requests->keras-tuner) (1.26.16)\n",
      "Requirement already satisfied: certifi>=2017.4.17 in c:\\users\\hp\\appdata\\local\\programs\\python\\python311\\lib\\site-packages (from requests->keras-tuner) (2023.7.22)\n"
     ]
    }
   ],
   "source": [
    "!pip install keras-tuner"
   ]
  },
  {
   "cell_type": "code",
   "execution_count": 5,
   "metadata": {
    "id": "82Jic08b3YW2"
   },
   "outputs": [],
   "source": [
    "import tensorflow as tf\n",
    "from tensorflow import keras\n",
    "from tensorflow.keras import layers\n",
    "import keras_tuner as kt\n",
    "from sklearn.model_selection import train_test_split\n",
    "from tensorflow.keras.preprocessing.text import Tokenizer\n",
    "from tensorflow.keras.preprocessing.sequence import pad_sequences\n",
    "import matplotlib.pyplot as plt\n"
   ]
  },
  {
   "cell_type": "code",
   "execution_count": 6,
   "metadata": {},
   "outputs": [],
   "source": [
    "# # Print versions of the imported libraries\n",
    "# print(\"TensorFlow version:\", tf.__version__)\n",
    "# print(\"Keras version:\", keras.__version__)\n",
    "# print(\"Keras Tuner version:\", kt.__version__)\n",
    "# print(\"Scikit-learn version:\", train_test_split.__module__.split('.')[0], train_test_split.__module__.split('.')[1])\n",
    "\n",
    "\n",
    "\n"
   ]
  },
  {
   "cell_type": "code",
   "execution_count": 7,
   "metadata": {
    "id": "U_6JO12u3YTX"
   },
   "outputs": [],
   "source": [
    "\n",
    "# Tokenize and preprocess the sequences\n",
    "max_words = 10000\n",
    "max_len = 50\n",
    "\n",
    "tokenizer = Tokenizer(num_words=max_words)\n",
    "tokenizer.fit_on_texts(df['Data'])\n",
    "sequences = tokenizer.texts_to_sequences(df['Data'])\n",
    "padded_sequences = pad_sequences(sequences, maxlen=max_len)\n"
   ]
  },
  {
   "cell_type": "code",
   "execution_count": 8,
   "metadata": {
    "id": "a2Nvv3Yz3YRB"
   },
   "outputs": [],
   "source": [
    "# # Convert the preprocessed text data to numpy arrays\n",
    "# X_data = padded_sequences\n",
    "# y_data = df['Sentiment']\n",
    "\n",
    "# # Split the dataset into training and test sets\n",
    "# X_train, X_test, y_train, y_test = train_test_split(X_data, y_data, test_size=0.2, random_state=42)\n"
   ]
  },
  {
   "cell_type": "code",
   "execution_count": 9,
   "metadata": {
    "id": "K2cXE56P3YO0"
   },
   "outputs": [],
   "source": [
    "# # Define the model-building function\n",
    "# def build_model(hp):\n",
    "#     model = keras.Sequential()\n",
    "#     model.add(layers.Embedding(input_dim=max_words, output_dim=hp.Int('embedding_dim', min_value=50, max_value=200, step=50), input_length=max_len))\n",
    "#     model.add(layers.SpatialDropout1D(hp.Float('dropout_rate', min_value=0.2, max_value=0.5, step=0.1)))\n",
    "#     model.add(layers.LSTM(hp.Int('lstm_units', min_value=50, max_value=200, step=50), dropout=hp.Float('dropout_rate', min_value=0.2, max_value=0.5, step=0.1), recurrent_dropout=hp.Float('recurrent_dropout_rate', min_value=0.2, max_value=0.5, step=0.1)))\n",
    "#     model.add(layers.Dense(10, activation='softmax'))\n",
    "#     model.compile(optimizer=hp.Choice('optimizer', values=['adam', 'rmsprop']),\n",
    "#                   loss='sparse_categorical_crossentropy',\n",
    "#                   metrics=['accuracy'])\n",
    "#     return model\n"
   ]
  },
  {
   "cell_type": "code",
   "execution_count": 10,
   "metadata": {
    "colab": {
     "base_uri": "https://localhost:8080/"
    },
    "executionInfo": {
     "elapsed": 1224,
     "status": "ok",
     "timestamp": 1717731579908,
     "user": {
      "displayName": "Ismail Hossain Adnan",
      "userId": "14161832378508013193"
     },
     "user_tz": -360
    },
    "id": "o9T0jeeg3YMb",
    "outputId": "ab58c568-5228-448b-d8f1-17936ed84fb0"
   },
   "outputs": [],
   "source": [
    "# # Set up the tuner\n",
    "# tuner = kt.RandomSearch(\n",
    "#     build_model,\n",
    "#     objective='val_accuracy',\n",
    "#     max_trials=3,  # Increase this number for a more thorough search\n",
    "#     executions_per_trial=3,\n",
    "#     directory='my_dir',\n",
    "#     project_name='text_classification_tuning'\n",
    "# )"
   ]
  },
  {
   "cell_type": "code",
   "execution_count": 11,
   "metadata": {
    "colab": {
     "base_uri": "https://localhost:8080/"
    },
    "executionInfo": {
     "elapsed": 941024,
     "status": "ok",
     "timestamp": 1717732521499,
     "user": {
      "displayName": "Ismail Hossain Adnan",
      "userId": "14161832378508013193"
     },
     "user_tz": -360
    },
    "id": "s-xVUoF03YJ9",
    "outputId": "8044c629-2680-45fd-bb71-707110a40edd"
   },
   "outputs": [],
   "source": [
    "# # Perform the search\n",
    "# tuner.search(X_train, y_train, epochs=5, validation_data=(X_test, y_test))\n",
    "\n",
    "# # Get the best hyperparameters\n",
    "# best_hps = tuner.get_best_hyperparameters(num_trials=1)[0]\n",
    "# print(f\"\"\"\n",
    "# The hyperparameter search is complete. The optimal embedding dimension is {best_hps.get('embedding_dim')},\n",
    "# the optimal number of LSTM units is {best_hps.get('lstm_units')},\n",
    "# the optimal dropout rate is {best_hps.get('dropout_rate')},\n",
    "# the optimal recurrent dropout rate is {best_hps.get('recurrent_dropout_rate')},\n",
    "# and the optimal optimizer is {best_hps.get('optimizer')}.\n",
    "# \"\"\")"
   ]
  },
  {
   "cell_type": "code",
   "execution_count": 12,
   "metadata": {
    "colab": {
     "base_uri": "https://localhost:8080/"
    },
    "executionInfo": {
     "elapsed": 205844,
     "status": "ok",
     "timestamp": 1717732749846,
     "user": {
      "displayName": "Ismail Hossain Adnan",
      "userId": "14161832378508013193"
     },
     "user_tz": -360
    },
    "id": "G7yyjMpI3YHS",
    "outputId": "5b1efcb5-8691-4653-b186-2b73a9f4f9ea"
   },
   "outputs": [],
   "source": [
    "\n",
    "# # Train the final model with the optimal hyperparameters\n",
    "# model = tuner.hypermodel.build(best_hps)\n",
    "# history = model.fit(X_train, y_train, epochs=10, validation_data=(X_test, y_test))"
   ]
  },
  {
   "cell_type": "code",
   "execution_count": 13,
   "metadata": {
    "colab": {
     "base_uri": "https://localhost:8080/"
    },
    "executionInfo": {
     "elapsed": 608,
     "status": "ok",
     "timestamp": 1717732793498,
     "user": {
      "displayName": "Ismail Hossain Adnan",
      "userId": "14161832378508013193"
     },
     "user_tz": -360
    },
    "id": "XseWvNPO3YFD",
    "outputId": "5870afcf-8d24-4cdc-e5b8-3ac14bcb849a"
   },
   "outputs": [],
   "source": [
    "# # Evaluate the model on the test set\n",
    "# test_loss, test_accuracy = model.evaluate(X_test, y_test)\n",
    "# print(f'Test accuracy: {test_accuracy}')"
   ]
  },
  {
   "cell_type": "code",
   "execution_count": 14,
   "metadata": {
    "colab": {
     "base_uri": "https://localhost:8080/",
     "height": 472
    },
    "executionInfo": {
     "elapsed": 1572,
     "status": "ok",
     "timestamp": 1717732811882,
     "user": {
      "displayName": "Ismail Hossain Adnan",
      "userId": "14161832378508013193"
     },
     "user_tz": -360
    },
    "id": "nHXY7hyD3YCe",
    "outputId": "e78315e3-5a21-425e-9a34-7995af0dea7b"
   },
   "outputs": [],
   "source": [
    "# # Plot training & validation accuracy values\n",
    "# plt.plot(history.history['accuracy'])\n",
    "# plt.plot(history.history['val_accuracy'])\n",
    "# plt.title('Model accuracy')\n",
    "# plt.ylabel('Accuracy')\n",
    "# plt.xlabel('Epoch')\n",
    "# plt.legend(['Train', 'Test'], loc='upper left')\n",
    "# plt.show()"
   ]
  },
  {
   "cell_type": "code",
   "execution_count": 15,
   "metadata": {
    "colab": {
     "base_uri": "https://localhost:8080/",
     "height": 472
    },
    "executionInfo": {
     "elapsed": 1455,
     "status": "ok",
     "timestamp": 1717732843714,
     "user": {
      "displayName": "Ismail Hossain Adnan",
      "userId": "14161832378508013193"
     },
     "user_tz": -360
    },
    "id": "kOg4df9L3X_4",
    "outputId": "5417d6ca-fdd1-4aea-f9ac-447c75828819"
   },
   "outputs": [],
   "source": [
    "# # Plot training & validation loss values\n",
    "# plt.plot(history.history['loss'])\n",
    "# plt.plot(history.history['val_loss'])\n",
    "# plt.title('Model loss')\n",
    "# plt.ylabel('Loss')\n",
    "# plt.xlabel('Epoch')\n",
    "# plt.legend(['Train', 'Test'], loc='upper left')\n",
    "# plt.show()"
   ]
  },
  {
   "cell_type": "code",
   "execution_count": 16,
   "metadata": {
    "colab": {
     "base_uri": "https://localhost:8080/"
    },
    "executionInfo": {
     "elapsed": 9,
     "status": "ok",
     "timestamp": 1717732946996,
     "user": {
      "displayName": "Ismail Hossain Adnan",
      "userId": "14161832378508013193"
     },
     "user_tz": -360
    },
    "id": "5nbVQ8Tm21V9",
    "outputId": "63c2681d-909d-4cdf-c07e-886f2d8d97b4"
   },
   "outputs": [],
   "source": [
    "# # prompt: save the model file. load  and predict with model file\n",
    "\n",
    "# # Save the model\n",
    "# model.save('/content/drive/MyDrive/Colab_files/9 may/Models/lstm_model.h5')\n",
    "\n"
   ]
  },
  {
   "cell_type": "code",
   "execution_count": 17,
   "metadata": {
    "colab": {
     "base_uri": "https://localhost:8080/"
    },
    "executionInfo": {
     "elapsed": 1225,
     "status": "ok",
     "timestamp": 1717732961113,
     "user": {
      "displayName": "Ismail Hossain Adnan",
      "userId": "14161832378508013193"
     },
     "user_tz": -360
    },
    "id": "IZO8vHDg21Zd",
    "outputId": "41509b85-7851-411d-f317-6c1ec368d06f"
   },
   "outputs": [],
   "source": [
    "# # Load the model\n",
    "# loaded_model = keras.models.load_model('/content/drive/MyDrive/Colab_files/9 may/Models/lstm_model.h5')\n",
    "\n",
    "# # Make predictions with the loaded model\n",
    "# predictions = loaded_model.predict(X_test)\n",
    "\n",
    "# # Print the predictions\n",
    "# print(predictions)\n"
   ]
  },
  {
   "cell_type": "code",
   "execution_count": 18,
   "metadata": {
    "colab": {
     "base_uri": "https://localhost:8080/"
    },
    "executionInfo": {
     "elapsed": 4039,
     "status": "ok",
     "timestamp": 1717781152950,
     "user": {
      "displayName": "Ismail Hossain Adnan",
      "userId": "14161832378508013193"
     },
     "user_tz": -360
    },
    "id": "1Iu2Daxy3Rs8",
    "outputId": "4c18375a-861c-49c6-b05a-10ebf36b74b2"
   },
   "outputs": [],
   "source": [
    "# # prompt: predict sentiment for \" মন ভালো করার গল্প...অসাধারণ\" this line using model file and print sentiment label\n",
    "# import numpy as np\n",
    "# # Load the model\n",
    "# loaded_model = keras.models.load_model('lstm_model.h5')\n",
    "\n",
    "# # Preprocess the text\n",
    "# text = \"মন ভালো করার গল্প...অসাধারণ\"\n",
    "# sequences = tokenizer.texts_to_sequences([text])\n",
    "# padded_sequences = pad_sequences(sequences, maxlen=max_len)\n",
    "\n",
    "# # Make predictions with the loaded model\n",
    "# predictions = loaded_model.predict(padded_sequences)\n",
    "\n",
    "# # Print the sentiment label\n",
    "# sentiment_labels = ['negative', 'positive']\n",
    "# predicted_label = sentiment_labels[np.argmax(predictions)]\n",
    "# print(f\"Predicted sentiment for '{text}': {predicted_label}\")\n"
   ]
  },
  {
   "cell_type": "code",
   "execution_count": 19,
   "metadata": {
    "colab": {
     "base_uri": "https://localhost:8080/"
    },
    "executionInfo": {
     "elapsed": 733,
     "status": "ok",
     "timestamp": 1717781157220,
     "user": {
      "displayName": "Ismail Hossain Adnan",
      "userId": "14161832378508013193"
     },
     "user_tz": -360
    },
    "id": "kIsgaVSl4My9",
    "outputId": "da041b35-cc45-4372-c701-fd485fcfaf3f"
   },
   "outputs": [
    {
     "name": "stdout",
     "output_type": "stream",
     "text": [
      "1/1 [==============================] - 0s 423ms/step\n",
      "1\n"
     ]
    }
   ],
   "source": [
    "# prompt: predict sentiment for \" মন ভালো করার গল্প...অসাধারণ\" this line using model file and print sentiment label\n",
    "loaded_model = keras.models.load_model('lstm_model.h5')\n",
    "\n",
    "# Preprocess the input text\n",
    "input_text = \"মন ভালো করার গল্প...অসাধারণ\"\n",
    "sequences = tokenizer.texts_to_sequences([input_text])\n",
    "padded_sequences = pad_sequences(sequences, maxlen=max_len)\n",
    "\n",
    "# Make predictions with the loaded model\n",
    "predictions = loaded_model.predict(padded_sequences)\n",
    "\n",
    "# Get the predicted sentiment label\n",
    "sentiment_label = tf.argmax(predictions[0]).numpy()\n",
    "\n",
    "# Print the predicted sentiment label\n",
    "print(sentiment_label)"
   ]
  },
  {
   "cell_type": "code",
   "execution_count": 20,
   "metadata": {
    "colab": {
     "base_uri": "https://localhost:8080/"
    },
    "executionInfo": {
     "elapsed": 1048,
     "status": "ok",
     "timestamp": 1717781162386,
     "user": {
      "displayName": "Ismail Hossain Adnan",
      "userId": "14161832378508013193"
     },
     "user_tz": -360
    },
    "id": "DamG0NQe4M1j",
    "outputId": "77a563b8-869b-44ec-cb5f-66ee72bf5ffc"
   },
   "outputs": [
    {
     "name": "stdout",
     "output_type": "stream",
     "text": [
      "1/1 [==============================] - 0s 32ms/step\n",
      "2\n"
     ]
    }
   ],
   "source": [
    "# prompt: predict sentiment for \" মন ভালো করার গল্প...অসাধারণ\" this line using model file and print sentiment label\n",
    "\n",
    "# Preprocess the input text\n",
    "input_text = \"নাটকে কিছু নোংরামি দেখানো হইছে\"\n",
    "sequences = tokenizer.texts_to_sequences([input_text])\n",
    "padded_sequences = pad_sequences(sequences, maxlen=max_len)\n",
    "\n",
    "# Make predictions with the loaded model\n",
    "predictions = loaded_model.predict(padded_sequences)\n",
    "\n",
    "# Get the predicted sentiment label\n",
    "sentiment_label = tf.argmax(predictions[0]).numpy()\n",
    "\n",
    "# Print the predicted sentiment label\n",
    "print(sentiment_label)"
   ]
  },
  {
   "cell_type": "code",
   "execution_count": 21,
   "metadata": {
    "colab": {
     "base_uri": "https://localhost:8080/"
    },
    "executionInfo": {
     "elapsed": 776,
     "status": "ok",
     "timestamp": 1717781166462,
     "user": {
      "displayName": "Ismail Hossain Adnan",
      "userId": "14161832378508013193"
     },
     "user_tz": -360
    },
    "id": "1UusHUAB4M4u",
    "outputId": "618b3ce7-4209-4343-cab2-101c22e7ac21"
   },
   "outputs": [
    {
     "name": "stdout",
     "output_type": "stream",
     "text": [
      "1/1 [==============================] - 0s 47ms/step\n",
      "0\n"
     ]
    }
   ],
   "source": [
    "# Preprocess the input text\n",
    "input_text = \"খবরটি কবে প্রকাশিত হয়েছিল?\"\n",
    "sequences = tokenizer.texts_to_sequences([input_text])\n",
    "padded_sequences = pad_sequences(sequences, maxlen=max_len)\n",
    "\n",
    "# Make predictions with the loaded model\n",
    "predictions = loaded_model.predict(padded_sequences)\n",
    "\n",
    "# Get the predicted sentiment label\n",
    "sentiment_label = tf.argmax(predictions[0]).numpy()\n",
    "\n",
    "# Print the predicted sentiment label\n",
    "print(sentiment_label)"
   ]
  },
  {
   "cell_type": "code",
   "execution_count": null,
   "metadata": {},
   "outputs": [
    {
     "name": "stderr",
     "output_type": "stream",
     "text": [
      "INFO:root:Model loaded successfully.\n"
     ]
    },
    {
     "name": "stdout",
     "output_type": "stream",
     "text": [
      " * Serving Flask app '__main__'\n",
      " * Debug mode: off\n"
     ]
    },
    {
     "name": "stderr",
     "output_type": "stream",
     "text": [
      "INFO:werkzeug:\u001b[31m\u001b[1mWARNING: This is a development server. Do not use it in a production deployment. Use a production WSGI server instead.\u001b[0m\n",
      " * Running on http://localhost:3500\n",
      "INFO:werkzeug:\u001b[33mPress CTRL+C to quit\u001b[0m\n",
      "INFO:werkzeug:127.0.0.1 - - [19/Jun/2024 23:00:53] \"GET / HTTP/1.1\" 200 -\n",
      "INFO:werkzeug:127.0.0.1 - - [19/Jun/2024 23:00:54] \"\u001b[33mGET /favicon.ico HTTP/1.1\u001b[0m\" 404 -\n"
     ]
    },
    {
     "name": "stdout",
     "output_type": "stream",
     "text": [
      "1/1 [==============================] - 0s 398ms/step\n"
     ]
    },
    {
     "name": "stderr",
     "output_type": "stream",
     "text": [
      "INFO:werkzeug:127.0.0.1 - - [19/Jun/2024 23:00:59] \"POST /predict HTTP/1.1\" 200 -\n"
     ]
    }
   ],
   "source": [
    "from flask import Flask, render_template, request\n",
    "from tensorflow.keras.preprocessing.sequence import pad_sequences\n",
    "from tensorflow.keras.models import load_model\n",
    "import logging\n",
    "import numpy as np\n",
    "\n",
    "# Configure logging\n",
    "logging.basicConfig(level=logging.DEBUG)\n",
    "\n",
    "# Load the LSTM model and tokenizer\n",
    "try:\n",
    "    loaded_model = load_model('lstm_model.h5')\n",
    "    logging.info(\"Model loaded successfully.\")\n",
    "except Exception as e:\n",
    "    logging.error(f\"Error loading model: {e}\")\n",
    "\n",
    "# Define max_len as per the model's requirement\n",
    "max_len = 50  # Update this to match your model's expected input length\n",
    "\n",
    "app = Flask(__name__)\n",
    "\n",
    "@app.route('/')\n",
    "def home():\n",
    "    return render_template('home.html')\n",
    "\n",
    "@app.route('/predict', methods=['POST'])\n",
    "def predict():\n",
    "    try:\n",
    "        if request.method == 'POST':\n",
    "            input_text = request.form['message']\n",
    "            sequences = tokenizer.texts_to_sequences([input_text])\n",
    "            padded_sequences = pad_sequences(sequences, maxlen=max_len)\n",
    "            predictions = loaded_model.predict(padded_sequences)\n",
    "            sentiment_label = np.argmax(predictions[0])\n",
    "\n",
    "            return render_template('result.html', prediction=sentiment_label)\n",
    "    except Exception as e:\n",
    "        logging.error(f\"Error during prediction: {e}\")\n",
    "        logging.info(f\"Input text causing the error: {input_text}\")\n",
    "        return \"Error during prediction\", 500\n",
    "\n",
    "if __name__ == '__main__':\n",
    "    app.run(host=\"localhost\", port=3500)\n"
   ]
  },
  {
   "cell_type": "code",
   "execution_count": null,
   "metadata": {},
   "outputs": [],
   "source": []
  },
  {
   "cell_type": "code",
   "execution_count": null,
   "metadata": {},
   "outputs": [],
   "source": []
  }
 ],
 "metadata": {
  "accelerator": "GPU",
  "colab": {
   "authorship_tag": "ABX9TyMF22OYkrz5dm0IvglEA017",
   "gpuType": "T4",
   "provenance": []
  },
  "kernelspec": {
   "display_name": "Python 3 (ipykernel)",
   "language": "python",
   "name": "python3"
  },
  "language_info": {
   "codemirror_mode": {
    "name": "ipython",
    "version": 3
   },
   "file_extension": ".py",
   "mimetype": "text/x-python",
   "name": "python",
   "nbconvert_exporter": "python",
   "pygments_lexer": "ipython3",
   "version": "3.11.2"
  }
 },
 "nbformat": 4,
 "nbformat_minor": 1
}
